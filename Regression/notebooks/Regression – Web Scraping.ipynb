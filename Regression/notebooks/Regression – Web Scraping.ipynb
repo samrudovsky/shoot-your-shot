{
 "cells": [
  {
   "cell_type": "code",
   "execution_count": 2,
   "metadata": {
    "ExecuteTime": {
     "end_time": "2019-12-26T15:54:27.409841Z",
     "start_time": "2019-12-26T15:54:24.687222Z"
    }
   },
   "outputs": [],
   "source": [
    "import pandas as pd\n",
    "import numpy as np\n",
    "from bs4 import BeautifulSoup\n",
    "\n",
    "import requests\n",
    "import re\n",
    "import random\n",
    "import time\n",
    "import matplotlib.pyplot as plt\n",
    "%matplotlib inline\n",
    "import unidecode\n",
    "from collections import OrderedDict"
   ]
  },
  {
   "cell_type": "markdown",
   "metadata": {},
   "source": [
    "### Preprocessing, data organiztion, and HTML parsing to prepare for WebScraping"
   ]
  },
  {
   "cell_type": "code",
   "execution_count": 3,
   "metadata": {
    "ExecuteTime": {
     "end_time": "2019-12-26T15:54:28.211178Z",
     "start_time": "2019-12-26T15:54:27.412210Z"
    }
   },
   "outputs": [],
   "source": [
    "player_a_url = 'https://www.basketball-reference.com/players/a/'\n",
    "all_a_players = []\n",
    "all_a_players_url = []\n",
    "\n",
    "url = 'https://www.basketball-reference.com/players/{}/{}01.html'\n",
    "a_scraped_urls = []\n",
    "\n",
    "response = requests.get(player_a_url)\n",
    "page  = response.text\n",
    "soup = BeautifulSoup(page, 'lxml')\n",
    "\n",
    "# Extract player name from chart of all NBA players with last name starting with 'A'\n",
    "chart = soup.find(attrs={'id': 'players'}).find('tbody').find_all('tr')\n",
    "for row in chart:\n",
    "    all_a_players.append(row.find('th').text)\n",
    "\n",
    "all_a_players = list(OrderedDict.fromkeys(all_a_players))\n",
    "\n",
    "# Remove broken URLs\n",
    "all_a_players.remove('D.J. Augustin')\n",
    "all_a_players.remove('B.J. Armstrong')\n",
    "all_a_players.remove('J.J. Anderson')\n",
    "all_a_players.remove('Jeff Ayres')\n",
    "\n",
    "# Accounting for special characters, format player names to adhere to page url structure\n",
    "for player in all_a_players:\n",
    "    a_split = player.lower().split(' ')\n",
    "    all_a_players_url.append(unidecode.unidecode((a_split[1][:5]) + a_split[0][:2])) \n",
    "\n",
    "# List of all 'A' player pages\n",
    "for i in range(len(all_a_players_url)):\n",
    "    a_scraped_urls.append(url.format(all_a_players_url[i][0], all_a_players_url[i]))"
   ]
  },
  {
   "cell_type": "markdown",
   "metadata": {},
   "source": [
    "### Get HTML"
   ]
  },
  {
   "cell_type": "code",
   "execution_count": 4,
   "metadata": {
    "ExecuteTime": {
     "end_time": "2019-12-26T15:56:00.691908Z",
     "start_time": "2019-12-26T15:54:28.214235Z"
    },
    "scrolled": false
   },
   "outputs": [],
   "source": [
    "player_info = []\n",
    "\n",
    "def toHTML(list_of_urls):\n",
    "    \n",
    "    for url in range(len(a_scraped_urls)):\n",
    "        player_info.append(requests.get(a_scraped_urls[url]).text)\n",
    "\n",
    "    return player_info\n",
    "\n",
    "HTML = toHTML(a_scraped_urls)"
   ]
  },
  {
   "cell_type": "markdown",
   "metadata": {},
   "source": [
    "### Parse HTML with BeautifulSoup"
   ]
  },
  {
   "cell_type": "code",
   "execution_count": 5,
   "metadata": {
    "ExecuteTime": {
     "end_time": "2019-12-26T15:56:34.109895Z",
     "start_time": "2019-12-26T15:56:00.694650Z"
    }
   },
   "outputs": [],
   "source": [
    "soup_objs = []\n",
    "\n",
    "def toListOfSoups(HTML):\n",
    "    \n",
    "    for player in player_info:\n",
    "        soup = BeautifulSoup(player.replace('-->', '').replace('<!--', ''), 'lxml') # remove extraneous characters\n",
    "        soup_objs.append(soup)\n",
    "    \n",
    "    return soup_objs\n",
    "\n",
    "soups = toListOfSoups(HTML)"
   ]
  },
  {
   "cell_type": "markdown",
   "metadata": {},
   "source": [
    "### Collect player statistics from all NBA seasons"
   ]
  },
  {
   "cell_type": "code",
   "execution_count": 6,
   "metadata": {
    "ExecuteTime": {
     "end_time": "2019-12-26T15:56:35.165178Z",
     "start_time": "2019-12-26T15:56:34.112269Z"
    }
   },
   "outputs": [],
   "source": [
    "per_game_tables = []\n",
    "\n",
    "for soup_element in soups:\n",
    "    per_game_tables.append(soup_element.find(attrs={'class': 'overthrow table_container',\n",
    "                                            'id': 'div_per_game'}))"
   ]
  },
  {
   "cell_type": "markdown",
   "metadata": {},
   "source": [
    "### Rookie Year Statistics"
   ]
  },
  {
   "cell_type": "code",
   "execution_count": 7,
   "metadata": {
    "ExecuteTime": {
     "end_time": "2019-12-26T15:56:35.374239Z",
     "start_time": "2019-12-26T15:56:35.167663Z"
    }
   },
   "outputs": [],
   "source": [
    "table_rows = []\n",
    "\n",
    "for table in per_game_tables:\n",
    "    try:\n",
    "        table_rows.append(table.find(attrs={'class': 'full_table'}))\n",
    "    except AttributeError:\n",
    "        print(table)"
   ]
  },
  {
   "cell_type": "markdown",
   "metadata": {},
   "source": [
    "#### Points per game as a rookie"
   ]
  },
  {
   "cell_type": "code",
   "execution_count": 8,
   "metadata": {
    "ExecuteTime": {
     "end_time": "2019-12-26T15:56:35.447050Z",
     "start_time": "2019-12-26T15:56:35.376962Z"
    }
   },
   "outputs": [],
   "source": [
    "points_rookie = []\n",
    "\n",
    "for i in table_rows:\n",
    "    try:\n",
    "        points_rookie.append(i.find(attrs={'data-stat': 'pts_per_g'}).text)\n",
    "    except AttributeError:\n",
    "        points_rookie.append('N/A')"
   ]
  },
  {
   "cell_type": "markdown",
   "metadata": {},
   "source": [
    "#### Free throw percentage as a rookie"
   ]
  },
  {
   "cell_type": "code",
   "execution_count": 9,
   "metadata": {
    "ExecuteTime": {
     "end_time": "2019-12-26T15:56:35.503031Z",
     "start_time": "2019-12-26T15:56:35.449510Z"
    }
   },
   "outputs": [],
   "source": [
    "ft_pct = []\n",
    "\n",
    "for i in table_rows:\n",
    "    try:\n",
    "        ft_pct.append(i.find(attrs={'data-stat': 'ft_pct'}).text)\n",
    "    except:\n",
    "        ft_pct.append('N/A')"
   ]
  },
  {
   "cell_type": "markdown",
   "metadata": {},
   "source": [
    "#### 3P percentage as a rookie"
   ]
  },
  {
   "cell_type": "code",
   "execution_count": 10,
   "metadata": {
    "ExecuteTime": {
     "end_time": "2019-12-26T15:56:35.548100Z",
     "start_time": "2019-12-26T15:56:35.505470Z"
    }
   },
   "outputs": [],
   "source": [
    "three_pt_pct = []\n",
    "\n",
    "for i in table_rows:\n",
    "    try:\n",
    "        three_pt_pct.append(i.find(attrs={'data-stat': 'fg3_pct'}).text)\n",
    "    except AttributeError:\n",
    "        three_pt_pct.append('N/A')"
   ]
  },
  {
   "cell_type": "markdown",
   "metadata": {},
   "source": [
    "#### 3P attempts per game as rookie"
   ]
  },
  {
   "cell_type": "code",
   "execution_count": 11,
   "metadata": {
    "ExecuteTime": {
     "end_time": "2019-12-26T15:56:35.592302Z",
     "start_time": "2019-12-26T15:56:35.550377Z"
    }
   },
   "outputs": [],
   "source": [
    "three_pt_attempts = []\n",
    "\n",
    "for i in table_rows:\n",
    "    try:\n",
    "        three_pt_attempts.append(i.find(attrs={'data-stat': 'fg3a_per_g'}).text)\n",
    "    except AttributeError:\n",
    "        three_pt_attempts.append(0)"
   ]
  },
  {
   "cell_type": "markdown",
   "metadata": {},
   "source": [
    "#### Minutes per game as a rookie"
   ]
  },
  {
   "cell_type": "code",
   "execution_count": 12,
   "metadata": {
    "ExecuteTime": {
     "end_time": "2019-12-26T15:56:35.624168Z",
     "start_time": "2019-12-26T15:56:35.595289Z"
    }
   },
   "outputs": [],
   "source": [
    "mpg = []\n",
    "\n",
    "for i in table_rows:\n",
    "    try:\n",
    "        mpg.append(i.find(attrs={'data-stat': 'mp_per_g'}).text)\n",
    "    except AttributeError:\n",
    "        mpg.append('N/A')"
   ]
  },
  {
   "cell_type": "markdown",
   "metadata": {},
   "source": [
    "#### Field goal attempts per game as a rookie"
   ]
  },
  {
   "cell_type": "code",
   "execution_count": 13,
   "metadata": {
    "ExecuteTime": {
     "end_time": "2019-12-26T15:56:35.661342Z",
     "start_time": "2019-12-26T15:56:35.627005Z"
    }
   },
   "outputs": [],
   "source": [
    "fga = []\n",
    "\n",
    "for i in table_rows:\n",
    "    try:\n",
    "        fga.append(i.find(attrs={'data-stat': 'fga_per_g'}).text)\n",
    "    except AttributeError:\n",
    "        fga.append('N/A')"
   ]
  },
  {
   "cell_type": "markdown",
   "metadata": {},
   "source": [
    "#### Field goal percentage as a rookie"
   ]
  },
  {
   "cell_type": "code",
   "execution_count": 14,
   "metadata": {
    "ExecuteTime": {
     "end_time": "2019-12-26T15:56:35.699679Z",
     "start_time": "2019-12-26T15:56:35.663445Z"
    }
   },
   "outputs": [],
   "source": [
    "fg_pct = []\n",
    "\n",
    "for i in table_rows:\n",
    "    try:\n",
    "        fg_pct.append(i.find(attrs={'data-stat': 'fg_pct'}).text)\n",
    "    except AttributeError:\n",
    "        fg_pct.append('N/A')"
   ]
  },
  {
   "cell_type": "markdown",
   "metadata": {},
   "source": [
    "#### Assists per game as a rookie"
   ]
  },
  {
   "cell_type": "code",
   "execution_count": 15,
   "metadata": {
    "ExecuteTime": {
     "end_time": "2019-12-26T15:56:35.761534Z",
     "start_time": "2019-12-26T15:56:35.701905Z"
    }
   },
   "outputs": [],
   "source": [
    "assists = []\n",
    "\n",
    "for i in table_rows:\n",
    "    try:\n",
    "        assists.append(i.find(attrs={'data-stat': 'ast_per_g'}).text)\n",
    "    except AttributeError:\n",
    "        assists.append('N/A')"
   ]
  },
  {
   "cell_type": "markdown",
   "metadata": {},
   "source": [
    "#### Games played as a rookie (out of 82)"
   ]
  },
  {
   "cell_type": "code",
   "execution_count": 16,
   "metadata": {
    "ExecuteTime": {
     "end_time": "2019-12-26T15:56:35.789483Z",
     "start_time": "2019-12-26T15:56:35.764071Z"
    }
   },
   "outputs": [],
   "source": [
    "games_played= []\n",
    "\n",
    "for i in table_rows:\n",
    "    try:\n",
    "        games_played.append(i.find(attrs={'data-stat': 'g'}).text)\n",
    "    except AttributeError:\n",
    "        games_played.append('N/A')"
   ]
  },
  {
   "cell_type": "markdown",
   "metadata": {},
   "source": [
    "#### Total rebounds per game as a rookie"
   ]
  },
  {
   "cell_type": "code",
   "execution_count": 17,
   "metadata": {
    "ExecuteTime": {
     "end_time": "2019-12-26T15:56:35.849542Z",
     "start_time": "2019-12-26T15:56:35.791854Z"
    }
   },
   "outputs": [],
   "source": [
    "rebs = []\n",
    "\n",
    "for i in table_rows:\n",
    "    try:\n",
    "        rebs.append(i.find(attrs={'data-stat': 'trb_per_g'}).text)\n",
    "    except AttributeError:\n",
    "        rebs.append('N/A')"
   ]
  },
  {
   "cell_type": "markdown",
   "metadata": {},
   "source": [
    "#### Steals per game as a rookie"
   ]
  },
  {
   "cell_type": "code",
   "execution_count": 18,
   "metadata": {
    "ExecuteTime": {
     "end_time": "2019-12-26T15:56:35.913489Z",
     "start_time": "2019-12-26T15:56:35.852308Z"
    }
   },
   "outputs": [],
   "source": [
    "steals = []\n",
    "\n",
    "for i in table_rows:\n",
    "    try:\n",
    "        steals.append(i.find(attrs={'data-stat': 'stl_per_g'}).text)\n",
    "    except AttributeError:\n",
    "        steals.append(0)"
   ]
  },
  {
   "cell_type": "markdown",
   "metadata": {},
   "source": [
    "#### Player's position"
   ]
  },
  {
   "cell_type": "code",
   "execution_count": 19,
   "metadata": {
    "ExecuteTime": {
     "end_time": "2019-12-26T15:56:35.939263Z",
     "start_time": "2019-12-26T15:56:35.916008Z"
    }
   },
   "outputs": [],
   "source": [
    "position = []\n",
    "\n",
    "for i in table_rows:\n",
    "    try:\n",
    "        position.append(i.find(attrs={'data-stat': 'pos'}).text)\n",
    "    except AttributeError:\n",
    "        position.append('N/A')"
   ]
  },
  {
   "cell_type": "markdown",
   "metadata": {},
   "source": [
    "### Sophomore Year Table"
   ]
  },
  {
   "cell_type": "code",
   "execution_count": 20,
   "metadata": {
    "ExecuteTime": {
     "end_time": "2019-12-26T15:56:37.258594Z",
     "start_time": "2019-12-26T15:56:35.941521Z"
    }
   },
   "outputs": [],
   "source": [
    "all_tables = []\n",
    "soph_tables = []\n",
    "\n",
    "for table in per_game_tables:\n",
    "    try:\n",
    "        all_tables.append(table.find_all(attrs={'class': 'full_table'}))\n",
    "    except:\n",
    "        pass\n",
    "\n",
    "for player_table in all_tables:\n",
    "    try:\n",
    "        soph_tables.append(player_table[1]) # 2nd row – sophomore statistics\n",
    "    except:\n",
    "        soph_tables.append('N/A')"
   ]
  },
  {
   "cell_type": "markdown",
   "metadata": {},
   "source": [
    "#### Points per game as a sophomore (Target var)"
   ]
  },
  {
   "cell_type": "code",
   "execution_count": 21,
   "metadata": {
    "ExecuteTime": {
     "end_time": "2019-12-26T15:56:37.319385Z",
     "start_time": "2019-12-26T15:56:37.261054Z"
    }
   },
   "outputs": [],
   "source": [
    "points_sophomore = []\n",
    "\n",
    "for player in soph_tables:\n",
    "    try:\n",
    "        points_sophomore.append(player.find(attrs={'data-stat': 'pts_per_g'}).text)\n",
    "    except TypeError:\n",
    "        points_sophomore.append(0)"
   ]
  },
  {
   "cell_type": "markdown",
   "metadata": {},
   "source": [
    "### DataFrame"
   ]
  },
  {
   "cell_type": "code",
   "execution_count": 22,
   "metadata": {
    "ExecuteTime": {
     "end_time": "2019-12-26T15:56:37.345238Z",
     "start_time": "2019-12-26T15:56:37.321765Z"
    }
   },
   "outputs": [],
   "source": [
    "zipped = list(zip(all_a_players, position, points_rookie, fga, fg_pct, \n",
    "                  games_played, mpg, rebs, assists, steals, three_pt_attempts, \n",
    "                  three_pt_pct, ft_pct, points_sophomore))\n",
    "\n",
    "df_A = pd.DataFrame(zipped, columns=['Name', 'Position', 'Rookie PPG', 'FGA', 'FG_Pct', \n",
    "                                                    'Games Played', 'MPG', 'Rebounds', 'Assists', 'Steals', \n",
    "                                                    '3 Pt. Att', '3 Pt. Pct', 'FT Pct', 'Sophomore PPG'])"
   ]
  },
  {
   "cell_type": "markdown",
   "metadata": {},
   "source": [
    "### Export to CSV"
   ]
  },
  {
   "cell_type": "code",
   "execution_count": 26,
   "metadata": {
    "ExecuteTime": {
     "end_time": "2019-12-26T16:00:06.293312Z",
     "start_time": "2019-12-26T16:00:06.285223Z"
    }
   },
   "outputs": [],
   "source": [
    "A_csv = df_A.to_csv('A.csv')"
   ]
  },
  {
   "cell_type": "code",
   "execution_count": null,
   "metadata": {},
   "outputs": [],
   "source": []
  }
 ],
 "metadata": {
  "kernelspec": {
   "display_name": "Python 3",
   "language": "python",
   "name": "python3"
  },
  "language_info": {
   "codemirror_mode": {
    "name": "ipython",
    "version": 3
   },
   "file_extension": ".py",
   "mimetype": "text/x-python",
   "name": "python",
   "nbconvert_exporter": "python",
   "pygments_lexer": "ipython3",
   "version": "3.5.6"
  },
  "toc": {
   "base_numbering": 1,
   "nav_menu": {},
   "number_sections": true,
   "sideBar": true,
   "skip_h1_title": false,
   "title_cell": "Table of Contents",
   "title_sidebar": "Contents",
   "toc_cell": false,
   "toc_position": {},
   "toc_section_display": true,
   "toc_window_display": false
  }
 },
 "nbformat": 4,
 "nbformat_minor": 2
}
